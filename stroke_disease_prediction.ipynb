{
 "cells": [
  {
   "cell_type": "code",
   "execution_count": 31,
   "id": "3a81b9c1-d584-44cf-a855-eea75d9893e4",
   "metadata": {},
   "outputs": [],
   "source": [
    "import pandas as pd\n",
    "import numpy as np\n",
    "import seaborn as sns\n",
    "import matplotlib.pyplot as plt\n",
    "\n",
    "from sklearn.pipeline import Pipeline\n",
    "from sklearn.preprocessing import StandardScaler\n",
    "from sklearn.model_selection import train_test_split\n",
    "from sklearn.linear_model import LogisticRegression\n",
    "from sklearn.tree import DecisionTreeRegressor\n",
    "from sklearn.metrics import classification_report, confusion_matrix,accuracy_score\n",
    "\n",
    "import joblib\n",
    "import warnings\n",
    "warnings.filterwarnings(\"ignore\")\n"
   ]
  },
  {
   "cell_type": "code",
   "execution_count": 5,
   "id": "3320200e-ef0a-45fb-a383-1774b4a25434",
   "metadata": {},
   "outputs": [],
   "source": [
    "df = pd.read_csv(\"Datasets/healthcare-dataset-stroke-data.csv\")"
   ]
  },
  {
   "cell_type": "code",
   "execution_count": 6,
   "id": "1bfc2cf9-33f4-4379-8719-fb442f9c0630",
   "metadata": {},
   "outputs": [
    {
     "name": "stdout",
     "output_type": "stream",
     "text": [
      "<class 'pandas.core.frame.DataFrame'>\n",
      "RangeIndex: 5110 entries, 0 to 5109\n",
      "Data columns (total 11 columns):\n",
      " #   Column             Non-Null Count  Dtype  \n",
      "---  ------             --------------  -----  \n",
      " 0   gender             5110 non-null   object \n",
      " 1   age                5110 non-null   float64\n",
      " 2   hypertension       5110 non-null   int64  \n",
      " 3   heart_disease      5110 non-null   int64  \n",
      " 4   ever_married       5110 non-null   object \n",
      " 5   work_type          5110 non-null   object \n",
      " 6   Residence_type     5110 non-null   object \n",
      " 7   avg_glucose_level  5110 non-null   float64\n",
      " 8   bmi                4909 non-null   float64\n",
      " 9   smoking_status     5110 non-null   object \n",
      " 10  stroke             5110 non-null   int64  \n",
      "dtypes: float64(3), int64(3), object(5)\n",
      "memory usage: 439.3+ KB\n"
     ]
    }
   ],
   "source": [
    "df= df.drop([\"id\"],axis=1 , )\n",
    "df.info()"
   ]
  },
  {
   "cell_type": "code",
   "execution_count": 9,
   "id": "8c2f9f19-449f-4ded-86b3-082660f4060b",
   "metadata": {},
   "outputs": [
    {
     "data": {
      "text/html": [
       "<div>\n",
       "<style scoped>\n",
       "    .dataframe tbody tr th:only-of-type {\n",
       "        vertical-align: middle;\n",
       "    }\n",
       "\n",
       "    .dataframe tbody tr th {\n",
       "        vertical-align: top;\n",
       "    }\n",
       "\n",
       "    .dataframe thead th {\n",
       "        text-align: right;\n",
       "    }\n",
       "</style>\n",
       "<table border=\"1\" class=\"dataframe\">\n",
       "  <thead>\n",
       "    <tr style=\"text-align: right;\">\n",
       "      <th></th>\n",
       "      <th>age</th>\n",
       "      <th>hypertension</th>\n",
       "      <th>heart_disease</th>\n",
       "      <th>avg_glucose_level</th>\n",
       "      <th>bmi</th>\n",
       "      <th>stroke</th>\n",
       "    </tr>\n",
       "  </thead>\n",
       "  <tbody>\n",
       "    <tr>\n",
       "      <th>count</th>\n",
       "      <td>5110.000000</td>\n",
       "      <td>5110.000000</td>\n",
       "      <td>5110.000000</td>\n",
       "      <td>5110.000000</td>\n",
       "      <td>4909.000000</td>\n",
       "      <td>5110.000000</td>\n",
       "    </tr>\n",
       "    <tr>\n",
       "      <th>mean</th>\n",
       "      <td>43.226614</td>\n",
       "      <td>0.097456</td>\n",
       "      <td>0.054012</td>\n",
       "      <td>106.147677</td>\n",
       "      <td>28.893237</td>\n",
       "      <td>0.048728</td>\n",
       "    </tr>\n",
       "    <tr>\n",
       "      <th>std</th>\n",
       "      <td>22.612647</td>\n",
       "      <td>0.296607</td>\n",
       "      <td>0.226063</td>\n",
       "      <td>45.283560</td>\n",
       "      <td>7.854067</td>\n",
       "      <td>0.215320</td>\n",
       "    </tr>\n",
       "    <tr>\n",
       "      <th>min</th>\n",
       "      <td>0.080000</td>\n",
       "      <td>0.000000</td>\n",
       "      <td>0.000000</td>\n",
       "      <td>55.120000</td>\n",
       "      <td>10.300000</td>\n",
       "      <td>0.000000</td>\n",
       "    </tr>\n",
       "    <tr>\n",
       "      <th>25%</th>\n",
       "      <td>25.000000</td>\n",
       "      <td>0.000000</td>\n",
       "      <td>0.000000</td>\n",
       "      <td>77.245000</td>\n",
       "      <td>23.500000</td>\n",
       "      <td>0.000000</td>\n",
       "    </tr>\n",
       "    <tr>\n",
       "      <th>50%</th>\n",
       "      <td>45.000000</td>\n",
       "      <td>0.000000</td>\n",
       "      <td>0.000000</td>\n",
       "      <td>91.885000</td>\n",
       "      <td>28.100000</td>\n",
       "      <td>0.000000</td>\n",
       "    </tr>\n",
       "    <tr>\n",
       "      <th>75%</th>\n",
       "      <td>61.000000</td>\n",
       "      <td>0.000000</td>\n",
       "      <td>0.000000</td>\n",
       "      <td>114.090000</td>\n",
       "      <td>33.100000</td>\n",
       "      <td>0.000000</td>\n",
       "    </tr>\n",
       "    <tr>\n",
       "      <th>max</th>\n",
       "      <td>82.000000</td>\n",
       "      <td>1.000000</td>\n",
       "      <td>1.000000</td>\n",
       "      <td>271.740000</td>\n",
       "      <td>97.600000</td>\n",
       "      <td>1.000000</td>\n",
       "    </tr>\n",
       "  </tbody>\n",
       "</table>\n",
       "</div>"
      ],
      "text/plain": [
       "               age  hypertension  heart_disease  avg_glucose_level  \\\n",
       "count  5110.000000   5110.000000    5110.000000        5110.000000   \n",
       "mean     43.226614      0.097456       0.054012         106.147677   \n",
       "std      22.612647      0.296607       0.226063          45.283560   \n",
       "min       0.080000      0.000000       0.000000          55.120000   \n",
       "25%      25.000000      0.000000       0.000000          77.245000   \n",
       "50%      45.000000      0.000000       0.000000          91.885000   \n",
       "75%      61.000000      0.000000       0.000000         114.090000   \n",
       "max      82.000000      1.000000       1.000000         271.740000   \n",
       "\n",
       "               bmi       stroke  \n",
       "count  4909.000000  5110.000000  \n",
       "mean     28.893237     0.048728  \n",
       "std       7.854067     0.215320  \n",
       "min      10.300000     0.000000  \n",
       "25%      23.500000     0.000000  \n",
       "50%      28.100000     0.000000  \n",
       "75%      33.100000     0.000000  \n",
       "max      97.600000     1.000000  "
      ]
     },
     "execution_count": 9,
     "metadata": {},
     "output_type": "execute_result"
    }
   ],
   "source": [
    "df.describe()"
   ]
  },
  {
   "cell_type": "code",
   "execution_count": 11,
   "id": "8e94c339-b00a-47bc-b6fe-4d7640080f9e",
   "metadata": {},
   "outputs": [
    {
     "data": {
      "image/png": "[encoded data removed]",
      "text/plain": [
       "<Figure size 640x480 with 1 Axes>"
      ]
     },
     "metadata": {},
     "output_type": "display_data"
    }
   ],
   "source": [
    "plt.figure()\n",
    "sns.countplot(x=\"stroke\",data=df)\n",
    "plt.title(\"Distribution of Stroke Class\")\n",
    "plt.show()"
   ]
  },
  {
   "cell_type": "code",
   "execution_count": 13,
   "id": "4253bee0-9f77-4c87-a722-5ed496743ae7",
   "metadata": {},
   "outputs": [
    {
     "data": {
      "text/plain": [
       "gender                 0\n",
       "age                    0\n",
       "hypertension           0\n",
       "heart_disease          0\n",
       "ever_married           0\n",
       "work_type              0\n",
       "Residence_type         0\n",
       "avg_glucose_level      0\n",
       "bmi                  201\n",
       "smoking_status         0\n",
       "stroke                 0\n",
       "dtype: int64"
      ]
     },
     "execution_count": 13,
     "metadata": {},
     "output_type": "execute_result"
    }
   ],
   "source": [
    "df.isnull().sum()"
   ]
  },
  {
   "cell_type": "code",
   "execution_count": 25,
   "id": "ebe49c75-d5a2-42cf-b946-2d31211a2670",
   "metadata": {},
   "outputs": [],
   "source": [
    "#Missing Values \n",
    "\n",
    "Dt_bmi_pipe = Pipeline(steps =[\n",
    "    (\"scale\",StandardScaler()),\n",
    "    (\"dtr\",DecisionTreeRegressor())\n",
    "])\n",
    "\n",
    "X=df[[\"gender\",\"age\",\"bmi\"]].copy()\n",
    "\n",
    "#male 0 , female 1 ,other -1 \n",
    "X.gender = X.gender.replace({\"Male\":0, \"Female\":1, \"Other\":-1}).astype(np.uint8)\n",
    "\n",
    "#missing bmi\n",
    "missing = X[X.bmi.isna()]\n",
    "X = X.dropna(subset=['bmi'])  \n",
    "y = X.pop(\"bmi\")  \n",
    "\n",
    "Dt_bmi_pipe.fit(X, y)\n",
    "\n",
    "#guess missing bmi values using gender and age\n",
    "predicted_bmi = pd.Series(Dt_bmi_pipe.predict(missing[[\"gender\", \"age\"]]), index=missing.index)\n",
    "\n",
    "df.loc[missing.index, \"bmi\"] = predicted_bmi\n"
   ]
  },
  {
   "cell_type": "code",
   "execution_count": 28,
   "id": "79a64325-e941-403d-95f9-b46234c67cd0",
   "metadata": {},
   "outputs": [
    {
     "name": "stdout",
     "output_type": "stream",
     "text": [
      "Accuracy: 0.9452054794520548\n",
      "Cm: \n",
      " [[483   0]\n",
      " [ 28   0]]\n",
      "Classification Report: \n",
      "               precision    recall  f1-score   support\n",
      "\n",
      "           0       0.95      1.00      0.97       483\n",
      "           1       0.00      0.00      0.00        28\n",
      "\n",
      "    accuracy                           0.95       511\n",
      "   macro avg       0.47      0.50      0.49       511\n",
      "weighted avg       0.89      0.95      0.92       511\n",
      "\n"
     ]
    }
   ],
   "source": [
    "df[\"gender\"]= df[\"gender\"].replace({\"Male\":0, \"Female\":1, \"Other\":-1}).astype(np.uint8)\n",
    "df[\"Residence_type\"]= df[\"Residence_type\"].replace({\"Rural\":0, \"Urban\":1}).astype(np.uint8)\n",
    "df[\"work_type\"]= df[\"work_type\"].replace({\"Private\":0, \"Self-employed\":1, \"Govt_job\":2,\"children\":-1,\"Never_worked\":-2}).astype(np.uint8)\n",
    "\n",
    "X= df[[\"gender\",\"age\",\"hypertension\",\"heart_disease\",\"work_type\",\"avg_glucose_level\",\"bmi\"]]\n",
    "y=df[\"stroke\"]\n",
    "\n",
    "X_train,X_test,y_train,y_test = train_test_split(X,y , test_size=0.1 ,random_state=42 )\n",
    "\n",
    "loggreg_pipe = Pipeline(steps=[(\"scale\",StandardScaler()),(\"LR\",LogisticRegression())])\n",
    "\n",
    "loggreg_pipe.fit(X_train,y_train)\n",
    "\n",
    "y_pred = loggreg_pipe.predict(X_test)\n",
    "print(\"Accuracy:\",accuracy_score(y_test,y_pred))\n",
    "print(\"Cm: \\n\",confusion_matrix(y_test, y_pred))\n",
    "print(\"Classification Report: \\n\",classification_report(y_test, y_pred))\n"
   ]
  },
  {
   "cell_type": "code",
   "execution_count": 37,
   "id": "73464d98-96ab-41e5-abdc-cdfa3b7a802e",
   "metadata": {},
   "outputs": [],
   "source": [
    "joblib.dump(loggreg_pipe,\"log_reg.pkl\")\n",
    "loaded_log_reg_pipe = joblib.load (\"log_reg.pkl\")\n",
    "\n",
    "new_patient = pd.DataFrame({\n",
    "    \"gender\":[0],\n",
    "    \"age\":[36],\n",
    "    \"hypertension\":[1],\n",
    "    \"heart_disease\":[0],\n",
    "    \"work_type\":[0],\n",
    "    \"avg_glucose_level\":[70],\n",
    "    \"bmi\":[23]\n",
    "})\n",
    "\n",
    "new_patient_result = loaded_log_reg_pipe.predict(new_patient)\n",
    "new_patient_result_prob = loaded_log_reg_pipe.predict_proba(new_patient)"
   ]
  },
  {
   "cell_type": "code",
   "execution_count": 39,
   "id": "fcb1c0c4-e2c3-4f9e-832f-2034e15ce0ed",
   "metadata": {},
   "outputs": [
    {
     "name": "stdout",
     "output_type": "stream",
     "text": [
      "New patient class: [0]\n",
      "New patient disease probability: [[0.98805351 0.01194649]]\n"
     ]
    }
   ],
   "source": [
    "print(\"New patient class:\",new_patient_result)\n",
    "print(\"New patient disease probability:\",new_patient_result_prob)"
   ]
  },
  {
   "cell_type": "code",
   "execution_count": null,
   "id": "df600bd0-3663-4deb-92cf-673d845941b1",
   "metadata": {},
   "outputs": [],
   "source": []
  }
 ],
 "metadata": {
  "kernelspec": {
   "display_name": "Python (myenv)",
   "language": "python",
   "name": "myenv"
  },
  "language_info": {
   "codemirror_mode": {
    "name": "ipython",
    "version": 3
   },
   "file_extension": ".py",
   "mimetype": "text/x-python",
   "name": "python",
   "nbconvert_exporter": "python",
   "pygments_lexer": "ipython3",
   "version": "3.11.5"
  }
 },
 "nbformat": 4,
 "nbformat_minor": 5
}
